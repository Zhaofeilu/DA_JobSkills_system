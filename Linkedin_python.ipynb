{
 "cells": [
  {
   "cell_type": "code",
   "execution_count": 1,
   "id": "45e1470f-9080-4b63-a840-87b9b8c4b2ed",
   "metadata": {
    "tags": []
   },
   "outputs": [],
   "source": [
    "#!pip install pymysql\n",
    "#!pip install mysql.connector\n",
    "import pandas as pd\n",
    "import pymysql\n",
    "import mysql.connector\n",
    "from sqlalchemy import create_engine, text\n",
    "\n",
    "# Connect to MySQL database\n",
    "username = 'root'  \n",
    "password = '12345678' \n",
    "database = 'linkedin'  \n",
    "host = 'localhost'  \n",
    "engine = create_engine(f'mysql+pymysql://{username}:{password}@{host}/{database}')\n",
    "mycursor = engine.connect()\n",
    "\n",
    "try:\n",
    "    mycursor.execute(text(\"SET FOREIGN_KEY_CHECKS=0;\"))  \n",
    "    mycursor.execute(text(\"DROP TABLE IF EXISTS job_skill;\"))\n",
    "    mycursor.execute(text(\"DROP TABLE IF EXISTS job;\"))\n",
    "    mycursor.execute(text(\"DROP TABLE IF EXISTS skills;\"))\n",
    "    mycursor.execute(text(\"DROP TABLE IF EXISTS address;\"))\n",
    "    mycursor.execute(text(\"SET FOREIGN_KEY_CHECKS=1;\")) \n",
    "\n",
    "    # Create tables\n",
    "    mycursor.execute(text(\"\"\"\n",
    "    CREATE TABLE address (\n",
    "        address_id INT AUTO_INCREMENT PRIMARY KEY,\n",
    "        job_location VARCHAR(100),\n",
    "        city VARCHAR(50),\n",
    "        country VARCHAR(100)\n",
    "    );\n",
    "    \"\"\"))\n",
    "\n",
    "    mycursor.execute(text(\"\"\"\n",
    "      CREATE TABLE job (\n",
    "        job_link VARCHAR(600) PRIMARY KEY,\n",
    "        address_id INT,\n",
    "        title VARCHAR(255),\n",
    "        company VARCHAR(255),\n",
    "        position VARCHAR(255),\n",
    "        job_level VARCHAR(50),\n",
    "        job_type VARCHAR(50),\n",
    "        FOREIGN KEY (address_id) REFERENCES address(address_id)\n",
    "    );\n",
    "\n",
    "    \"\"\"))\n",
    "\n",
    "    mycursor.execute(text(\"\"\"\n",
    "    CREATE TABLE skills (\n",
    "        skill_id INT AUTO_INCREMENT PRIMARY KEY,\n",
    "        skill TEXT\n",
    "    );\n",
    "    \"\"\"))\n",
    "\n",
    "    mycursor.execute(text(\"\"\"\n",
    "    CREATE TABLE job_skill (\n",
    "        job_skill_id int,\n",
    "        job_link VARCHAR(600),\n",
    "        skill_id INT,\n",
    "        PRIMARY KEY (job_skill_id),\n",
    "        FOREIGN KEY (job_link) REFERENCES job(job_link),\n",
    "        FOREIGN KEY (skill_id) REFERENCES skills(skill_id)\n",
    "    );\n",
    "    \"\"\"))\n",
    "\n",
    "except Exception as e:\n",
    "    print(\"An error occurred:\", e)\n",
    "finally:\n",
    "    # Close connection\n",
    "    mycursor.close()\n"
   ]
  },
  {
   "cell_type": "code",
   "execution_count": 2,
   "id": "67f87e1e-51dd-4734-b4f5-64a8ef40339c",
   "metadata": {
    "tags": []
   },
   "outputs": [],
   "source": [
    "summary = pd.read_csv(\"job_summary.csv\")\n",
    "skill = pd.read_csv(\"job_skills.csv\")\n",
    "posting = pd.read_csv(\"linkedin_job_postings.csv\")"
   ]
  },
  {
   "cell_type": "code",
   "execution_count": 3,
   "id": "d5075ad1-d2ff-462e-a377-f3e17e6c2a99",
   "metadata": {
    "tags": []
   },
   "outputs": [],
   "source": [
    "posting = posting[['job_link', 'job_title', 'company', 'job_location', 'search_city', 'search_country', 'search_position', 'job_level', 'job_type']]\n",
    "posting = posting.rename(columns = {'job_title': 'title', 'search_city': 'city', 'search_country': 'country', 'search_position': 'position'})"
   ]
  },
  {
   "cell_type": "code",
   "execution_count": 4,
   "id": "b493fd6b-07a4-45af-ad9c-a64a8d3710f3",
   "metadata": {
    "tags": []
   },
   "outputs": [
    {
     "data": {
      "text/html": [
       "<div>\n",
       "<style scoped>\n",
       "    .dataframe tbody tr th:only-of-type {\n",
       "        vertical-align: middle;\n",
       "    }\n",
       "\n",
       "    .dataframe tbody tr th {\n",
       "        vertical-align: top;\n",
       "    }\n",
       "\n",
       "    .dataframe thead th {\n",
       "        text-align: right;\n",
       "    }\n",
       "</style>\n",
       "<table border=\"1\" class=\"dataframe\">\n",
       "  <thead>\n",
       "    <tr style=\"text-align: right;\">\n",
       "      <th></th>\n",
       "      <th>job_link</th>\n",
       "      <th>title</th>\n",
       "      <th>company</th>\n",
       "      <th>job_location</th>\n",
       "      <th>city</th>\n",
       "      <th>country</th>\n",
       "      <th>position</th>\n",
       "      <th>job_level</th>\n",
       "      <th>job_type</th>\n",
       "    </tr>\n",
       "  </thead>\n",
       "  <tbody>\n",
       "    <tr>\n",
       "      <th>0</th>\n",
       "      <td>https://www.linkedin.com/jobs/view/account-exe...</td>\n",
       "      <td>Account Executive - Dispensing (NorCal/Norther...</td>\n",
       "      <td>BD</td>\n",
       "      <td>San Diego, CA</td>\n",
       "      <td>Coronado</td>\n",
       "      <td>United States</td>\n",
       "      <td>Color Maker</td>\n",
       "      <td>Mid senior</td>\n",
       "      <td>Onsite</td>\n",
       "    </tr>\n",
       "    <tr>\n",
       "      <th>1</th>\n",
       "      <td>https://www.linkedin.com/jobs/view/registered-...</td>\n",
       "      <td>Registered Nurse - RN Care Manager</td>\n",
       "      <td>Trinity Health MI</td>\n",
       "      <td>Norton Shores, MI</td>\n",
       "      <td>Grand Haven</td>\n",
       "      <td>United States</td>\n",
       "      <td>Director Nursing Service</td>\n",
       "      <td>Mid senior</td>\n",
       "      <td>Onsite</td>\n",
       "    </tr>\n",
       "    <tr>\n",
       "      <th>2</th>\n",
       "      <td>https://www.linkedin.com/jobs/view/restaurant-...</td>\n",
       "      <td>RESTAURANT SUPERVISOR - THE FORKLIFT</td>\n",
       "      <td>Wasatch Adaptive Sports</td>\n",
       "      <td>Sandy, UT</td>\n",
       "      <td>Tooele</td>\n",
       "      <td>United States</td>\n",
       "      <td>Stand-In</td>\n",
       "      <td>Mid senior</td>\n",
       "      <td>Onsite</td>\n",
       "    </tr>\n",
       "  </tbody>\n",
       "</table>\n",
       "</div>"
      ],
      "text/plain": [
       "                                            job_link  \\\n",
       "0  https://www.linkedin.com/jobs/view/account-exe...   \n",
       "1  https://www.linkedin.com/jobs/view/registered-...   \n",
       "2  https://www.linkedin.com/jobs/view/restaurant-...   \n",
       "\n",
       "                                               title                  company  \\\n",
       "0  Account Executive - Dispensing (NorCal/Norther...                       BD   \n",
       "1                 Registered Nurse - RN Care Manager        Trinity Health MI   \n",
       "2               RESTAURANT SUPERVISOR - THE FORKLIFT  Wasatch Adaptive Sports   \n",
       "\n",
       "        job_location         city        country                  position  \\\n",
       "0      San Diego, CA     Coronado  United States               Color Maker   \n",
       "1  Norton Shores, MI  Grand Haven  United States  Director Nursing Service   \n",
       "2          Sandy, UT       Tooele  United States                  Stand-In   \n",
       "\n",
       "    job_level job_type  \n",
       "0  Mid senior   Onsite  \n",
       "1  Mid senior   Onsite  \n",
       "2  Mid senior   Onsite  "
      ]
     },
     "execution_count": 4,
     "metadata": {},
     "output_type": "execute_result"
    }
   ],
   "source": [
    "posting.head(3)"
   ]
  },
  {
   "cell_type": "code",
   "execution_count": 5,
   "id": "de15e6d2-af17-4121-b16f-6c37a683d086",
   "metadata": {
    "tags": []
   },
   "outputs": [
    {
     "data": {
      "text/plain": [
       "title\n",
       "LEAD SALES ASSOCIATE-FT                                  2714\n",
       "Customer Service Representative                          2134\n",
       "Assistant Manager                                        2009\n",
       "Store Manager                                            1745\n",
       "LEAD SALES ASSOCIATE-PT                                  1721\n",
       "                                                         ... \n",
       "Senior Ecological Consultant                                1\n",
       "Pool Supervisor - Seasonal                                  1\n",
       "Lead Assistant Supervisor (Blow Molding)                    1\n",
       "Manager Promotion Operations                                1\n",
       "Personal Injury Trial Attorney (10+ years experience)       1\n",
       "Name: count, Length: 226476, dtype: int64"
      ]
     },
     "execution_count": 5,
     "metadata": {},
     "output_type": "execute_result"
    }
   ],
   "source": [
    "posting.title.value_counts()"
   ]
  },
  {
   "cell_type": "code",
   "execution_count": 6,
   "id": "9cc94ec3-5233-455a-a08d-94f05bc86799",
   "metadata": {
    "tags": []
   },
   "outputs": [
    {
     "data": {
      "text/plain": [
       "country\n",
       "United States     371415\n",
       "United Kingdom     37083\n",
       "Canada             18206\n",
       "Australia           9882\n",
       "Name: count, dtype: int64"
      ]
     },
     "execution_count": 6,
     "metadata": {},
     "output_type": "execute_result"
    }
   ],
   "source": [
    "posting.country.value_counts()"
   ]
  },
  {
   "cell_type": "code",
   "execution_count": 7,
   "id": "e3bc4321-5c18-4d46-94d6-3afa773aaf93",
   "metadata": {
    "tags": []
   },
   "outputs": [
    {
     "data": {
      "text/plain": [
       "position\n",
       "Christian Science Nurse                             7164\n",
       "Circulation-Sales Representative                    7144\n",
       "Extra                                               6212\n",
       "Change Person                                       5882\n",
       "Consultant Education                                5190\n",
       "                                                    ... \n",
       "Supervisor Swimming-Pool Maintenance                   1\n",
       "Sales Representative Material-Handling Equipment       1\n",
       "Booster Assembler                                      1\n",
       "Cabinet Assembler                                      1\n",
       "Librarian Special Collections                          1\n",
       "Name: count, Length: 1841, dtype: int64"
      ]
     },
     "execution_count": 7,
     "metadata": {},
     "output_type": "execute_result"
    }
   ],
   "source": [
    "posting.position.value_counts()"
   ]
  },
  {
   "cell_type": "code",
   "execution_count": 8,
   "id": "6871e601-8fa0-456a-94c9-ceb6e09fdff8",
   "metadata": {
    "tags": []
   },
   "outputs": [
    {
     "data": {
      "text/plain": [
       "job_type\n",
       "Onsite    433802\n",
       "Hybrid      1664\n",
       "Remote      1120\n",
       "Name: count, dtype: int64"
      ]
     },
     "execution_count": 8,
     "metadata": {},
     "output_type": "execute_result"
    }
   ],
   "source": [
    "posting.job_type.value_counts()"
   ]
  },
  {
   "cell_type": "code",
   "execution_count": 9,
   "id": "97fb2814-e4bf-41dc-b9b8-a1f104c269b4",
   "metadata": {
    "tags": []
   },
   "outputs": [
    {
     "name": "stdout",
     "output_type": "stream",
     "text": [
      "common_job_link type: <class 'set'>\n",
      "Total number of common job_link: 6080\n",
      "\n",
      "\n"
     ]
    }
   ],
   "source": [
    "common_job_link = set(summary['job_link']).intersection(set(skill['job_link']), set(posting['job_link']))\n",
    "print(\"common_job_link type:\", type(common_job_link))\n",
    "print(\"Total number of common job_link:\", len(common_job_link))\n",
    "print(\"\\n\")"
   ]
  },
  {
   "cell_type": "code",
   "execution_count": 10,
   "id": "29d906be-b97a-4578-89f0-a8066ab34892",
   "metadata": {
    "tags": []
   },
   "outputs": [
    {
     "name": "stdout",
     "output_type": "stream",
     "text": [
      "Summary dataset original dimension: (59999, 2)\n",
      "Filtered Summary dataset dimension: (6080, 2)\n"
     ]
    }
   ],
   "source": [
    "print(\"Summary dataset original dimension:\", summary.shape)\n",
    "summary = summary[summary['job_link'].isin(common_job_link)]\n",
    "print(\"Filtered Summary dataset dimension:\", summary.shape)"
   ]
  },
  {
   "cell_type": "code",
   "execution_count": 11,
   "id": "9eb26711-4562-453c-8da3-372c3acef724",
   "metadata": {
    "tags": []
   },
   "outputs": [
    {
     "name": "stdout",
     "output_type": "stream",
     "text": [
      "Skill dataset original dimension: (679699, 2)\n",
      "Filtered Skill dataset dimension: (6080, 2)\n"
     ]
    }
   ],
   "source": [
    "print(\"Skill dataset original dimension:\", skill.shape)\n",
    "skill = skill[skill['job_link'].isin(common_job_link)]\n",
    "print(\"Filtered Skill dataset dimension:\", skill.shape)"
   ]
  },
  {
   "cell_type": "code",
   "execution_count": 12,
   "id": "3735fc6e-b83e-455c-9afb-99951abbc232",
   "metadata": {
    "tags": []
   },
   "outputs": [
    {
     "name": "stdout",
     "output_type": "stream",
     "text": [
      "Posting dataset original dimension: (436586, 9)\n",
      "Filtered Posting dataset dimension: (6080, 9)\n"
     ]
    }
   ],
   "source": [
    "print(\"Posting dataset original dimension:\", posting.shape)\n",
    "posting = posting[posting['job_link'].isin(common_job_link)]\n",
    "print(\"Filtered Posting dataset dimension:\", posting.shape)"
   ]
  },
  {
   "cell_type": "code",
   "execution_count": 13,
   "id": "0c21ea20-849c-4142-b272-3f7078472a47",
   "metadata": {
    "tags": []
   },
   "outputs": [
    {
     "data": {
      "text/html": [
       "<div>\n",
       "<style scoped>\n",
       "    .dataframe tbody tr th:only-of-type {\n",
       "        vertical-align: middle;\n",
       "    }\n",
       "\n",
       "    .dataframe tbody tr th {\n",
       "        vertical-align: top;\n",
       "    }\n",
       "\n",
       "    .dataframe thead th {\n",
       "        text-align: right;\n",
       "    }\n",
       "</style>\n",
       "<table border=\"1\" class=\"dataframe\">\n",
       "  <thead>\n",
       "    <tr style=\"text-align: right;\">\n",
       "      <th></th>\n",
       "      <th>job_link</th>\n",
       "      <th>summary</th>\n",
       "      <th>skill</th>\n",
       "      <th>title</th>\n",
       "      <th>company</th>\n",
       "      <th>job_location</th>\n",
       "      <th>city</th>\n",
       "      <th>country</th>\n",
       "      <th>position</th>\n",
       "      <th>job_level</th>\n",
       "      <th>job_type</th>\n",
       "    </tr>\n",
       "  </thead>\n",
       "  <tbody>\n",
       "    <tr>\n",
       "      <th>0</th>\n",
       "      <td>https://www.linkedin.com/jobs/view/material-ha...</td>\n",
       "      <td>Job Details:\\nJob Title : Quality Liaison (599...</td>\n",
       "      <td>Inspection, Rework, Reporting, Communication, ...</td>\n",
       "      <td>Material Handler</td>\n",
       "      <td>Intelliswift Software</td>\n",
       "      <td>Austin, TX</td>\n",
       "      <td>Austin</td>\n",
       "      <td>United States</td>\n",
       "      <td>Handler</td>\n",
       "      <td>Mid senior</td>\n",
       "      <td>Onsite</td>\n",
       "    </tr>\n",
       "    <tr>\n",
       "      <th>1</th>\n",
       "      <td>https://www.linkedin.com/jobs/view/middle-scho...</td>\n",
       "      <td>Position:\\nMiddle School Soccer Coach\\nLocatio...</td>\n",
       "      <td>Soccer Coaching, Coaching Tactics, Practice Dr...</td>\n",
       "      <td>Middle School Soccer Coach [Sexton]</td>\n",
       "      <td>Lansing School District</td>\n",
       "      <td>Lansing, MI</td>\n",
       "      <td>East Lansing</td>\n",
       "      <td>United States</td>\n",
       "      <td>Head Coach</td>\n",
       "      <td>Mid senior</td>\n",
       "      <td>Onsite</td>\n",
       "    </tr>\n",
       "    <tr>\n",
       "      <th>2</th>\n",
       "      <td>https://www.linkedin.com/jobs/view/boys-basket...</td>\n",
       "      <td>SEASONAL ONLY POSITION\\nIn order to be conside...</td>\n",
       "      <td>Athletic coaching certificate, Teaching certif...</td>\n",
       "      <td>Boys Basketball Coach</td>\n",
       "      <td>Leon County Schools</td>\n",
       "      <td>Tallahassee, FL</td>\n",
       "      <td>Tallahassee</td>\n",
       "      <td>United States</td>\n",
       "      <td>Head Coach</td>\n",
       "      <td>Mid senior</td>\n",
       "      <td>Onsite</td>\n",
       "    </tr>\n",
       "    <tr>\n",
       "      <th>3</th>\n",
       "      <td>https://www.linkedin.com/jobs/view/store-manag...</td>\n",
       "      <td>Our Store Managers lead teams to maximize the ...</td>\n",
       "      <td>Team Leadership, Optimization, Financial Outpu...</td>\n",
       "      <td>Store Manager</td>\n",
       "      <td>Harbor Freight Tools</td>\n",
       "      <td>Moundsville, WV</td>\n",
       "      <td>West Virginia</td>\n",
       "      <td>United States</td>\n",
       "      <td>Head Coach</td>\n",
       "      <td>Mid senior</td>\n",
       "      <td>Onsite</td>\n",
       "    </tr>\n",
       "    <tr>\n",
       "      <th>4</th>\n",
       "      <td>https://www.linkedin.com/jobs/view/store-manag...</td>\n",
       "      <td>Dollar General Corporation has been delivering...</td>\n",
       "      <td>Inventory management, Merchandising, Cashier a...</td>\n",
       "      <td>STORE MANAGER CANDIDATE</td>\n",
       "      <td>Dollar General</td>\n",
       "      <td>Houston, TX</td>\n",
       "      <td>Baytown</td>\n",
       "      <td>United States</td>\n",
       "      <td>Head Coach</td>\n",
       "      <td>Mid senior</td>\n",
       "      <td>Onsite</td>\n",
       "    </tr>\n",
       "  </tbody>\n",
       "</table>\n",
       "</div>"
      ],
      "text/plain": [
       "                                            job_link  \\\n",
       "0  https://www.linkedin.com/jobs/view/material-ha...   \n",
       "1  https://www.linkedin.com/jobs/view/middle-scho...   \n",
       "2  https://www.linkedin.com/jobs/view/boys-basket...   \n",
       "3  https://www.linkedin.com/jobs/view/store-manag...   \n",
       "4  https://www.linkedin.com/jobs/view/store-manag...   \n",
       "\n",
       "                                             summary  \\\n",
       "0  Job Details:\\nJob Title : Quality Liaison (599...   \n",
       "1  Position:\\nMiddle School Soccer Coach\\nLocatio...   \n",
       "2  SEASONAL ONLY POSITION\\nIn order to be conside...   \n",
       "3  Our Store Managers lead teams to maximize the ...   \n",
       "4  Dollar General Corporation has been delivering...   \n",
       "\n",
       "                                               skill  \\\n",
       "0  Inspection, Rework, Reporting, Communication, ...   \n",
       "1  Soccer Coaching, Coaching Tactics, Practice Dr...   \n",
       "2  Athletic coaching certificate, Teaching certif...   \n",
       "3  Team Leadership, Optimization, Financial Outpu...   \n",
       "4  Inventory management, Merchandising, Cashier a...   \n",
       "\n",
       "                                 title                  company  \\\n",
       "0                     Material Handler    Intelliswift Software   \n",
       "1  Middle School Soccer Coach [Sexton]  Lansing School District   \n",
       "2                Boys Basketball Coach      Leon County Schools   \n",
       "3                        Store Manager     Harbor Freight Tools   \n",
       "4              STORE MANAGER CANDIDATE           Dollar General   \n",
       "\n",
       "      job_location           city        country    position   job_level  \\\n",
       "0       Austin, TX         Austin  United States     Handler  Mid senior   \n",
       "1      Lansing, MI   East Lansing  United States  Head Coach  Mid senior   \n",
       "2  Tallahassee, FL    Tallahassee  United States  Head Coach  Mid senior   \n",
       "3  Moundsville, WV  West Virginia  United States  Head Coach  Mid senior   \n",
       "4      Houston, TX        Baytown  United States  Head Coach  Mid senior   \n",
       "\n",
       "  job_type  \n",
       "0   Onsite  \n",
       "1   Onsite  \n",
       "2   Onsite  \n",
       "3   Onsite  \n",
       "4   Onsite  "
      ]
     },
     "execution_count": 13,
     "metadata": {},
     "output_type": "execute_result"
    }
   ],
   "source": [
    "linkedin = pd.merge(summary, skill, on='job_link', how='inner')\n",
    "linkedin = pd.merge(linkedin, posting, on='job_link', how='inner')\n",
    "linkedin = linkedin.rename(columns = {'job_summary': 'summary', 'job_skills': 'skill'})\n",
    "linkedin.head(5)"
   ]
  },
  {
   "cell_type": "code",
   "execution_count": 14,
   "id": "aa8dccd4-d3e3-48dd-be52-d2a9e889c2de",
   "metadata": {
    "tags": []
   },
   "outputs": [],
   "source": [
    "job_skill = linkedin[['job_link']]"
   ]
  },
  {
   "cell_type": "code",
   "execution_count": 15,
   "id": "40718068-0689-4d8a-ba08-b44d1c65af8f",
   "metadata": {
    "tags": []
   },
   "outputs": [],
   "source": [
    "skill_column = linkedin[['skill']]"
   ]
  },
  {
   "cell_type": "code",
   "execution_count": 16,
   "id": "dc65774d-ae32-41a6-aa03-24c0d3eaaeee",
   "metadata": {
    "tags": []
   },
   "outputs": [
    {
     "data": {
      "text/plain": [
       "0               Inspection\n",
       "0                   Rework\n",
       "0                Reporting\n",
       "0            Communication\n",
       "0              Negotiation\n",
       "               ...        \n",
       "6079                Profit\n",
       "6079      Customer Service\n",
       "6079       Team Leadership\n",
       "6079         Communication\n",
       "6079     People Management\n",
       "Length: 117185, dtype: object"
      ]
     },
     "execution_count": 16,
     "metadata": {},
     "output_type": "execute_result"
    }
   ],
   "source": [
    "skill_column = skill_column.skill.str.split(',').apply(pd.Series, 1).stack()\n",
    "# Drop index level to match main dataframe\n",
    "skill_column.index = skill_column.index.droplevel(-1)\n",
    "skill_column"
   ]
  },
  {
   "cell_type": "code",
   "execution_count": 17,
   "id": "156ebfd1-d12c-421e-90f4-ad2a98ac26d5",
   "metadata": {
    "tags": []
   },
   "outputs": [
    {
     "data": {
      "text/html": [
       "<div>\n",
       "<style scoped>\n",
       "    .dataframe tbody tr th:only-of-type {\n",
       "        vertical-align: middle;\n",
       "    }\n",
       "\n",
       "    .dataframe tbody tr th {\n",
       "        vertical-align: top;\n",
       "    }\n",
       "\n",
       "    .dataframe thead th {\n",
       "        text-align: right;\n",
       "    }\n",
       "</style>\n",
       "<table border=\"1\" class=\"dataframe\">\n",
       "  <thead>\n",
       "    <tr style=\"text-align: right;\">\n",
       "      <th></th>\n",
       "      <th>skill_id</th>\n",
       "      <th>skill</th>\n",
       "    </tr>\n",
       "  </thead>\n",
       "  <tbody>\n",
       "    <tr>\n",
       "      <th>0</th>\n",
       "      <td>1</td>\n",
       "      <td>inspection</td>\n",
       "    </tr>\n",
       "    <tr>\n",
       "      <th>0</th>\n",
       "      <td>2</td>\n",
       "      <td>rework</td>\n",
       "    </tr>\n",
       "    <tr>\n",
       "      <th>0</th>\n",
       "      <td>3</td>\n",
       "      <td>reporting</td>\n",
       "    </tr>\n",
       "    <tr>\n",
       "      <th>0</th>\n",
       "      <td>4</td>\n",
       "      <td>communication</td>\n",
       "    </tr>\n",
       "    <tr>\n",
       "      <th>0</th>\n",
       "      <td>5</td>\n",
       "      <td>negotiation</td>\n",
       "    </tr>\n",
       "    <tr>\n",
       "      <th>...</th>\n",
       "      <td>...</td>\n",
       "      <td>...</td>\n",
       "    </tr>\n",
       "    <tr>\n",
       "      <th>6078</th>\n",
       "      <td>41036</td>\n",
       "      <td>multifamily development</td>\n",
       "    </tr>\n",
       "    <tr>\n",
       "      <th>6078</th>\n",
       "      <td>41037</td>\n",
       "      <td>project oversight</td>\n",
       "    </tr>\n",
       "    <tr>\n",
       "      <th>6078</th>\n",
       "      <td>41038</td>\n",
       "      <td>daytoday operations supervision</td>\n",
       "    </tr>\n",
       "    <tr>\n",
       "      <th>6078</th>\n",
       "      <td>41039</td>\n",
       "      <td>task completion accountability</td>\n",
       "    </tr>\n",
       "    <tr>\n",
       "      <th>6079</th>\n",
       "      <td>41040</td>\n",
       "      <td>commercial decisions</td>\n",
       "    </tr>\n",
       "  </tbody>\n",
       "</table>\n",
       "<p>41040 rows × 2 columns</p>\n",
       "</div>"
      ],
      "text/plain": [
       "      skill_id                            skill\n",
       "0            1                       inspection\n",
       "0            2                           rework\n",
       "0            3                        reporting\n",
       "0            4                    communication\n",
       "0            5                      negotiation\n",
       "...        ...                              ...\n",
       "6078     41036          multifamily development\n",
       "6078     41037                project oversight\n",
       "6078     41038  daytoday operations supervision\n",
       "6078     41039   task completion accountability\n",
       "6079     41040             commercial decisions\n",
       "\n",
       "[41040 rows x 2 columns]"
      ]
     },
     "execution_count": 17,
     "metadata": {},
     "output_type": "execute_result"
    }
   ],
   "source": [
    "unique_skill = pd.DataFrame(skill_column.str.lower().str.strip()).rename(columns = {0:'skill'}).drop_duplicates()\n",
    "unique_skill.insert(0, 'skill_id', range(1, 1 + len(unique_skill)))\n",
    "unique_skill"
   ]
  },
  {
   "cell_type": "code",
   "execution_count": 18,
   "id": "2c109612-ab9e-4416-bd6a-1e8e34fb9340",
   "metadata": {
    "tags": []
   },
   "outputs": [
    {
     "data": {
      "text/html": [
       "<div>\n",
       "<style scoped>\n",
       "    .dataframe tbody tr th:only-of-type {\n",
       "        vertical-align: middle;\n",
       "    }\n",
       "\n",
       "    .dataframe tbody tr th {\n",
       "        vertical-align: top;\n",
       "    }\n",
       "\n",
       "    .dataframe thead th {\n",
       "        text-align: right;\n",
       "    }\n",
       "</style>\n",
       "<table border=\"1\" class=\"dataframe\">\n",
       "  <thead>\n",
       "    <tr style=\"text-align: right;\">\n",
       "      <th></th>\n",
       "      <th>index</th>\n",
       "      <th>0</th>\n",
       "    </tr>\n",
       "  </thead>\n",
       "  <tbody>\n",
       "    <tr>\n",
       "      <th>0</th>\n",
       "      <td>0</td>\n",
       "      <td>inspection</td>\n",
       "    </tr>\n",
       "    <tr>\n",
       "      <th>1</th>\n",
       "      <td>0</td>\n",
       "      <td>rework</td>\n",
       "    </tr>\n",
       "    <tr>\n",
       "      <th>2</th>\n",
       "      <td>0</td>\n",
       "      <td>reporting</td>\n",
       "    </tr>\n",
       "    <tr>\n",
       "      <th>3</th>\n",
       "      <td>0</td>\n",
       "      <td>communication</td>\n",
       "    </tr>\n",
       "    <tr>\n",
       "      <th>4</th>\n",
       "      <td>0</td>\n",
       "      <td>negotiation</td>\n",
       "    </tr>\n",
       "    <tr>\n",
       "      <th>...</th>\n",
       "      <td>...</td>\n",
       "      <td>...</td>\n",
       "    </tr>\n",
       "    <tr>\n",
       "      <th>117180</th>\n",
       "      <td>6079</td>\n",
       "      <td>profit</td>\n",
       "    </tr>\n",
       "    <tr>\n",
       "      <th>117181</th>\n",
       "      <td>6079</td>\n",
       "      <td>customer service</td>\n",
       "    </tr>\n",
       "    <tr>\n",
       "      <th>117182</th>\n",
       "      <td>6079</td>\n",
       "      <td>team leadership</td>\n",
       "    </tr>\n",
       "    <tr>\n",
       "      <th>117183</th>\n",
       "      <td>6079</td>\n",
       "      <td>communication</td>\n",
       "    </tr>\n",
       "    <tr>\n",
       "      <th>117184</th>\n",
       "      <td>6079</td>\n",
       "      <td>people management</td>\n",
       "    </tr>\n",
       "  </tbody>\n",
       "</table>\n",
       "<p>117185 rows × 2 columns</p>\n",
       "</div>"
      ],
      "text/plain": [
       "        index                  0\n",
       "0           0         inspection\n",
       "1           0             rework\n",
       "2           0          reporting\n",
       "3           0      communication\n",
       "4           0        negotiation\n",
       "...       ...                ...\n",
       "117180   6079             profit\n",
       "117181   6079   customer service\n",
       "117182   6079    team leadership\n",
       "117183   6079      communication\n",
       "117184   6079  people management\n",
       "\n",
       "[117185 rows x 2 columns]"
      ]
     },
     "execution_count": 18,
     "metadata": {},
     "output_type": "execute_result"
    }
   ],
   "source": [
    "skill_df = pd.DataFrame(skill_column.str.lower().str.strip())\n",
    "skill_df = skill_df.rename_axis('index').reset_index()\n",
    "skill_df"
   ]
  },
  {
   "cell_type": "code",
   "execution_count": 19,
   "id": "49760190-4b08-44c1-9b83-dffe1b570d9d",
   "metadata": {
    "tags": []
   },
   "outputs": [
    {
     "data": {
      "text/html": [
       "<div>\n",
       "<style scoped>\n",
       "    .dataframe tbody tr th:only-of-type {\n",
       "        vertical-align: middle;\n",
       "    }\n",
       "\n",
       "    .dataframe tbody tr th {\n",
       "        vertical-align: top;\n",
       "    }\n",
       "\n",
       "    .dataframe thead th {\n",
       "        text-align: right;\n",
       "    }\n",
       "</style>\n",
       "<table border=\"1\" class=\"dataframe\">\n",
       "  <thead>\n",
       "    <tr style=\"text-align: right;\">\n",
       "      <th></th>\n",
       "      <th>index</th>\n",
       "      <th>job_link</th>\n",
       "    </tr>\n",
       "  </thead>\n",
       "  <tbody>\n",
       "    <tr>\n",
       "      <th>0</th>\n",
       "      <td>0</td>\n",
       "      <td>https://www.linkedin.com/jobs/view/material-ha...</td>\n",
       "    </tr>\n",
       "    <tr>\n",
       "      <th>1</th>\n",
       "      <td>1</td>\n",
       "      <td>https://www.linkedin.com/jobs/view/middle-scho...</td>\n",
       "    </tr>\n",
       "    <tr>\n",
       "      <th>2</th>\n",
       "      <td>2</td>\n",
       "      <td>https://www.linkedin.com/jobs/view/boys-basket...</td>\n",
       "    </tr>\n",
       "    <tr>\n",
       "      <th>3</th>\n",
       "      <td>3</td>\n",
       "      <td>https://www.linkedin.com/jobs/view/store-manag...</td>\n",
       "    </tr>\n",
       "    <tr>\n",
       "      <th>4</th>\n",
       "      <td>4</td>\n",
       "      <td>https://www.linkedin.com/jobs/view/store-manag...</td>\n",
       "    </tr>\n",
       "    <tr>\n",
       "      <th>...</th>\n",
       "      <td>...</td>\n",
       "      <td>...</td>\n",
       "    </tr>\n",
       "    <tr>\n",
       "      <th>6075</th>\n",
       "      <td>6075</td>\n",
       "      <td>https://www.linkedin.com/jobs/view/retail-supe...</td>\n",
       "    </tr>\n",
       "    <tr>\n",
       "      <th>6076</th>\n",
       "      <td>6076</td>\n",
       "      <td>https://www.linkedin.com/jobs/view/full-time-r...</td>\n",
       "    </tr>\n",
       "    <tr>\n",
       "      <th>6077</th>\n",
       "      <td>6077</td>\n",
       "      <td>https://www.linkedin.com/jobs/view/multifamily...</td>\n",
       "    </tr>\n",
       "    <tr>\n",
       "      <th>6078</th>\n",
       "      <td>6078</td>\n",
       "      <td>https://www.linkedin.com/jobs/view/superintend...</td>\n",
       "    </tr>\n",
       "    <tr>\n",
       "      <th>6079</th>\n",
       "      <td>6079</td>\n",
       "      <td>https://uk.linkedin.com/jobs/view/store-manage...</td>\n",
       "    </tr>\n",
       "  </tbody>\n",
       "</table>\n",
       "<p>6080 rows × 2 columns</p>\n",
       "</div>"
      ],
      "text/plain": [
       "      index                                           job_link\n",
       "0         0  https://www.linkedin.com/jobs/view/material-ha...\n",
       "1         1  https://www.linkedin.com/jobs/view/middle-scho...\n",
       "2         2  https://www.linkedin.com/jobs/view/boys-basket...\n",
       "3         3  https://www.linkedin.com/jobs/view/store-manag...\n",
       "4         4  https://www.linkedin.com/jobs/view/store-manag...\n",
       "...     ...                                                ...\n",
       "6075   6075  https://www.linkedin.com/jobs/view/retail-supe...\n",
       "6076   6076  https://www.linkedin.com/jobs/view/full-time-r...\n",
       "6077   6077  https://www.linkedin.com/jobs/view/multifamily...\n",
       "6078   6078  https://www.linkedin.com/jobs/view/superintend...\n",
       "6079   6079  https://uk.linkedin.com/jobs/view/store-manage...\n",
       "\n",
       "[6080 rows x 2 columns]"
      ]
     },
     "execution_count": 19,
     "metadata": {},
     "output_type": "execute_result"
    }
   ],
   "source": [
    "job_link_df = linkedin.job_link\n",
    "job_link_df = job_link_df.rename_axis('index').reset_index()\n",
    "job_link_df"
   ]
  },
  {
   "cell_type": "code",
   "execution_count": 20,
   "id": "7e7748f4-d826-48b4-a308-29d8626e74c0",
   "metadata": {
    "tags": []
   },
   "outputs": [
    {
     "data": {
      "text/html": [
       "<div>\n",
       "<style scoped>\n",
       "    .dataframe tbody tr th:only-of-type {\n",
       "        vertical-align: middle;\n",
       "    }\n",
       "\n",
       "    .dataframe tbody tr th {\n",
       "        vertical-align: top;\n",
       "    }\n",
       "\n",
       "    .dataframe thead th {\n",
       "        text-align: right;\n",
       "    }\n",
       "</style>\n",
       "<table border=\"1\" class=\"dataframe\">\n",
       "  <thead>\n",
       "    <tr style=\"text-align: right;\">\n",
       "      <th></th>\n",
       "      <th>job_skill_id</th>\n",
       "      <th>skill_id</th>\n",
       "      <th>job_link</th>\n",
       "    </tr>\n",
       "  </thead>\n",
       "  <tbody>\n",
       "    <tr>\n",
       "      <th>0</th>\n",
       "      <td>1</td>\n",
       "      <td>1</td>\n",
       "      <td>https://www.linkedin.com/jobs/view/material-ha...</td>\n",
       "    </tr>\n",
       "    <tr>\n",
       "      <th>1</th>\n",
       "      <td>2</td>\n",
       "      <td>1</td>\n",
       "      <td>https://www.linkedin.com/jobs/view/line-leader...</td>\n",
       "    </tr>\n",
       "    <tr>\n",
       "      <th>2</th>\n",
       "      <td>3</td>\n",
       "      <td>1</td>\n",
       "      <td>https://www.linkedin.com/jobs/view/lead-recrea...</td>\n",
       "    </tr>\n",
       "    <tr>\n",
       "      <th>3</th>\n",
       "      <td>4</td>\n",
       "      <td>1</td>\n",
       "      <td>https://www.linkedin.com/jobs/view/production-...</td>\n",
       "    </tr>\n",
       "    <tr>\n",
       "      <th>4</th>\n",
       "      <td>5</td>\n",
       "      <td>1</td>\n",
       "      <td>https://www.linkedin.com/jobs/view/field-inspe...</td>\n",
       "    </tr>\n",
       "  </tbody>\n",
       "</table>\n",
       "</div>"
      ],
      "text/plain": [
       "   job_skill_id  skill_id                                           job_link\n",
       "0             1         1  https://www.linkedin.com/jobs/view/material-ha...\n",
       "1             2         1  https://www.linkedin.com/jobs/view/line-leader...\n",
       "2             3         1  https://www.linkedin.com/jobs/view/lead-recrea...\n",
       "3             4         1  https://www.linkedin.com/jobs/view/production-...\n",
       "4             5         1  https://www.linkedin.com/jobs/view/field-inspe..."
      ]
     },
     "execution_count": 20,
     "metadata": {},
     "output_type": "execute_result"
    }
   ],
   "source": [
    "job_skill = pd.merge(skill_df, job_link_df, on='index', how='inner')[[\"job_link\", 0]]\n",
    "job_skill = job_skill.rename(columns={0: \"skill\"})\n",
    "job_skill.skill = job_skill.skill.str.lower().str.strip()\n",
    "job_skill = pd.merge(unique_skill, job_skill, on='skill', how='inner')\n",
    "job_skill.insert(0, 'job_skill_id', range(1, 1 + len(job_skill)))\n",
    "\n",
    "job_skill_df = pd.DataFrame(skill_column.str.lower().str.strip()).rename(columns={0: 'skill'}).drop_duplicates()\n",
    "job_skill_df.insert(0, 'skill_id', range(1, 1 + len(job_skill_df)))\n",
    "\n",
    "job_skill = job_skill.drop_duplicates()\n",
    "job_skill = job_skill.drop(columns=['skill'])\n",
    "\n",
    "job_skill.head(5)"
   ]
  },
  {
   "cell_type": "code",
   "execution_count": 21,
   "id": "f269b45d-5a0c-4fd3-8e0c-22ad4c89b02e",
   "metadata": {
    "tags": []
   },
   "outputs": [
    {
     "data": {
      "text/html": [
       "<div>\n",
       "<style scoped>\n",
       "    .dataframe tbody tr th:only-of-type {\n",
       "        vertical-align: middle;\n",
       "    }\n",
       "\n",
       "    .dataframe tbody tr th {\n",
       "        vertical-align: top;\n",
       "    }\n",
       "\n",
       "    .dataframe thead th {\n",
       "        text-align: right;\n",
       "    }\n",
       "</style>\n",
       "<table border=\"1\" class=\"dataframe\">\n",
       "  <thead>\n",
       "    <tr style=\"text-align: right;\">\n",
       "      <th></th>\n",
       "      <th>address_id</th>\n",
       "      <th>job_location</th>\n",
       "      <th>city</th>\n",
       "      <th>country</th>\n",
       "    </tr>\n",
       "  </thead>\n",
       "  <tbody>\n",
       "    <tr>\n",
       "      <th>0</th>\n",
       "      <td>1</td>\n",
       "      <td>Austin, TX</td>\n",
       "      <td>Austin</td>\n",
       "      <td>United States</td>\n",
       "    </tr>\n",
       "    <tr>\n",
       "      <th>1</th>\n",
       "      <td>2</td>\n",
       "      <td>Lansing, MI</td>\n",
       "      <td>East Lansing</td>\n",
       "      <td>United States</td>\n",
       "    </tr>\n",
       "    <tr>\n",
       "      <th>2</th>\n",
       "      <td>3</td>\n",
       "      <td>Tallahassee, FL</td>\n",
       "      <td>Tallahassee</td>\n",
       "      <td>United States</td>\n",
       "    </tr>\n",
       "    <tr>\n",
       "      <th>3</th>\n",
       "      <td>4</td>\n",
       "      <td>Moundsville, WV</td>\n",
       "      <td>West Virginia</td>\n",
       "      <td>United States</td>\n",
       "    </tr>\n",
       "    <tr>\n",
       "      <th>4</th>\n",
       "      <td>5</td>\n",
       "      <td>Houston, TX</td>\n",
       "      <td>Baytown</td>\n",
       "      <td>United States</td>\n",
       "    </tr>\n",
       "  </tbody>\n",
       "</table>\n",
       "</div>"
      ],
      "text/plain": [
       "   address_id     job_location           city        country\n",
       "0           1       Austin, TX         Austin  United States\n",
       "1           2      Lansing, MI   East Lansing  United States\n",
       "2           3  Tallahassee, FL    Tallahassee  United States\n",
       "3           4  Moundsville, WV  West Virginia  United States\n",
       "4           5      Houston, TX        Baytown  United States"
      ]
     },
     "execution_count": 21,
     "metadata": {},
     "output_type": "execute_result"
    }
   ],
   "source": [
    "address_df = linkedin[['job_location', 'city', 'country']].drop_duplicates()\n",
    "address_df.insert(0, 'address_id', range(1, 1 + len(address_df)))\n",
    "address_df.head(5)"
   ]
  },
  {
   "cell_type": "code",
   "execution_count": 22,
   "id": "678156e1-d1d4-42b4-a993-84501e283cdf",
   "metadata": {
    "tags": []
   },
   "outputs": [
    {
     "data": {
      "text/html": [
       "<div>\n",
       "<style scoped>\n",
       "    .dataframe tbody tr th:only-of-type {\n",
       "        vertical-align: middle;\n",
       "    }\n",
       "\n",
       "    .dataframe tbody tr th {\n",
       "        vertical-align: top;\n",
       "    }\n",
       "\n",
       "    .dataframe thead th {\n",
       "        text-align: right;\n",
       "    }\n",
       "</style>\n",
       "<table border=\"1\" class=\"dataframe\">\n",
       "  <thead>\n",
       "    <tr style=\"text-align: right;\">\n",
       "      <th></th>\n",
       "      <th>job_link</th>\n",
       "      <th>summary</th>\n",
       "      <th>skill</th>\n",
       "      <th>title</th>\n",
       "      <th>company</th>\n",
       "      <th>job_location</th>\n",
       "      <th>city</th>\n",
       "      <th>country</th>\n",
       "      <th>position</th>\n",
       "      <th>job_level</th>\n",
       "      <th>job_type</th>\n",
       "      <th>address_id</th>\n",
       "    </tr>\n",
       "  </thead>\n",
       "  <tbody>\n",
       "    <tr>\n",
       "      <th>0</th>\n",
       "      <td>https://www.linkedin.com/jobs/view/material-ha...</td>\n",
       "      <td>Job Details:\\nJob Title : Quality Liaison (599...</td>\n",
       "      <td>Inspection, Rework, Reporting, Communication, ...</td>\n",
       "      <td>Material Handler</td>\n",
       "      <td>Intelliswift Software</td>\n",
       "      <td>Austin, TX</td>\n",
       "      <td>Austin</td>\n",
       "      <td>United States</td>\n",
       "      <td>Handler</td>\n",
       "      <td>Mid senior</td>\n",
       "      <td>Onsite</td>\n",
       "      <td>1</td>\n",
       "    </tr>\n",
       "  </tbody>\n",
       "</table>\n",
       "</div>"
      ],
      "text/plain": [
       "                                            job_link  \\\n",
       "0  https://www.linkedin.com/jobs/view/material-ha...   \n",
       "\n",
       "                                             summary  \\\n",
       "0  Job Details:\\nJob Title : Quality Liaison (599...   \n",
       "\n",
       "                                               skill             title  \\\n",
       "0  Inspection, Rework, Reporting, Communication, ...  Material Handler   \n",
       "\n",
       "                 company job_location    city        country position  \\\n",
       "0  Intelliswift Software   Austin, TX  Austin  United States  Handler   \n",
       "\n",
       "    job_level job_type  address_id  \n",
       "0  Mid senior   Onsite           1  "
      ]
     },
     "execution_count": 22,
     "metadata": {},
     "output_type": "execute_result"
    }
   ],
   "source": [
    "# Joining address_id to the whole dataframe\n",
    "linkedin = pd.merge(linkedin, address_df, on=['job_location', 'city', 'country'], how='inner')\n",
    "linkedin.head(1)"
   ]
  },
  {
   "cell_type": "code",
   "execution_count": 23,
   "id": "4cb74d06-fa4a-476d-9c0c-22ee07ff9517",
   "metadata": {
    "tags": []
   },
   "outputs": [
    {
     "name": "stdout",
     "output_type": "stream",
     "text": [
      "Address Table Finished!\n"
     ]
    }
   ],
   "source": [
    "address_df.to_sql(name='address', con=engine, if_exists='append', index=False)\n",
    "print( \"Address Table Finished!\")"
   ]
  },
  {
   "cell_type": "code",
   "execution_count": 24,
   "id": "42e2e512-a868-469a-a5b6-dfa1e0d87baa",
   "metadata": {
    "tags": []
   },
   "outputs": [
    {
     "name": "stdout",
     "output_type": "stream",
     "text": [
      "Index(['job_link', 'summary', 'skill', 'title', 'company', 'job_location',\n",
      "       'city', 'country', 'position', 'job_level', 'job_type', 'address_id'],\n",
      "      dtype='object')\n"
     ]
    },
    {
     "data": {
      "text/plain": [
       "244"
      ]
     },
     "execution_count": 24,
     "metadata": {},
     "output_type": "execute_result"
    }
   ],
   "source": [
    "print(linkedin.columns)\n",
    "linkedin['job_link'].str.len().max()"
   ]
  },
  {
   "cell_type": "code",
   "execution_count": 25,
   "id": "21d4c5cd-d596-4cf4-a9a2-3322df88074d",
   "metadata": {
    "tags": []
   },
   "outputs": [
    {
     "name": "stdout",
     "output_type": "stream",
     "text": [
      "Job Table Finished!\n"
     ]
    }
   ],
   "source": [
    "linkedin[['job_link', 'address_id', 'title', 'company', 'position', 'job_level', 'job_type']].to_sql(name='job', con=engine, if_exists='append', index=False)\n",
    "print(\"Job Table Finished!\")"
   ]
  },
  {
   "cell_type": "code",
   "execution_count": 26,
   "id": "d4708132-249d-4f66-abf1-db0ea529fd7c",
   "metadata": {
    "tags": []
   },
   "outputs": [
    {
     "name": "stdout",
     "output_type": "stream",
     "text": [
      "Skills Table Finished!\n"
     ]
    }
   ],
   "source": [
    "unique_skill['skill'].str.len().max()\n",
    "unique_skill.to_sql(name = 'skills', con = engine, if_exists = 'append', index = False)\n",
    "print(\"Skills Table Finished!\")"
   ]
  },
  {
   "cell_type": "code",
   "execution_count": 27,
   "id": "0f3193b6-df98-42a4-a284-0348c1f67c1e",
   "metadata": {
    "tags": []
   },
   "outputs": [
    {
     "name": "stdout",
     "output_type": "stream",
     "text": [
      "Job_skill table Finished!\n"
     ]
    }
   ],
   "source": [
    "job_skill.to_sql(name = 'job_skill', con = engine, if_exists = 'append', index = False)\n",
    "print(\"Job_skill table Finished!\")"
   ]
  },
  {
   "cell_type": "code",
   "execution_count": null,
   "id": "f1b8faff-1983-47d7-a2f3-af4001c3d3a7",
   "metadata": {},
   "outputs": [],
   "source": []
  }
 ],
 "metadata": {
  "kernelspec": {
   "display_name": "Python 3 (ipykernel)",
   "language": "python",
   "name": "python3"
  },
  "language_info": {
   "codemirror_mode": {
    "name": "ipython",
    "version": 3
   },
   "file_extension": ".py",
   "mimetype": "text/x-python",
   "name": "python",
   "nbconvert_exporter": "python",
   "pygments_lexer": "ipython3",
   "version": "3.11.5"
  }
 },
 "nbformat": 4,
 "nbformat_minor": 5
}
